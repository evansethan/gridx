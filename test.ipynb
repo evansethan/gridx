{
 "cells": [
  {
   "cell_type": "code",
   "execution_count": 3,
   "metadata": {},
   "outputs": [
    {
     "ename": "ModuleNotFoundError",
     "evalue": "No module named 'pandas'",
     "output_type": "error",
     "traceback": [
      "\u001b[0;31m---------------------------------------------------------------------------\u001b[0m",
      "\u001b[0;31mModuleNotFoundError\u001b[0m                       Traceback (most recent call last)",
      "Cell \u001b[0;32mIn[3], line 1\u001b[0m\n\u001b[0;32m----> 1\u001b[0m \u001b[38;5;28;01mimport\u001b[39;00m\u001b[38;5;250m \u001b[39m\u001b[38;5;21;01mpandas\u001b[39;00m\u001b[38;5;250m \u001b[39m\u001b[38;5;28;01mas\u001b[39;00m\u001b[38;5;250m \u001b[39m\u001b[38;5;21;01mpd\u001b[39;00m \n\u001b[1;32m      3\u001b[0m \u001b[38;5;66;03m# read an excel file and convert  \u001b[39;00m\n\u001b[1;32m      4\u001b[0m \u001b[38;5;66;03m# into a dataframe object \u001b[39;00m\n\u001b[1;32m      5\u001b[0m df \u001b[38;5;241m=\u001b[39m pd\u001b[38;5;241m.\u001b[39mDataFrame(pd\u001b[38;5;241m.\u001b[39mread_excel(\u001b[38;5;124m\"\u001b[39m\u001b[38;5;124mdata/outages/2023_Annual_Summary.xls\u001b[39m\u001b[38;5;124m\"\u001b[39m)) \n",
      "\u001b[0;31mModuleNotFoundError\u001b[0m: No module named 'pandas'"
     ]
    }
   ],
   "source": [
    "import pandas as pd \n",
    "  \n",
    "# read an excel file and convert  \n",
    "# into a dataframe object \n",
    "df = pd.DataFrame(pd.read_excel(\"data/outages/2023_Annual_Summary.xls\")) \n",
    "  \n",
    "df.columns = df.iloc[0]\n",
    "df = df.drop(index=0)\n",
    "\n",
    "df"
   ]
  },
  {
   "cell_type": "code",
   "execution_count": 9,
   "metadata": {},
   "outputs": [
    {
     "data": {
      "text/plain": [
       "{'WECC': 1089557,\n",
       " 'SERC': 2000469,\n",
       " 'TRE': 1606752,\n",
       " 'RF': 2705961,\n",
       " 'NPCC': 368284,\n",
       " 'MRO': 145683,\n",
       " 'MRO/RF': 585842,\n",
       " 'SERC / RF': 65000,\n",
       " 'RF/SERC': 118000,\n",
       " 'RF ': 378,\n",
       " 'SERC,MRO': 144346,\n",
       " 'RE': 153000,\n",
       " nan: 778582}"
      ]
     },
     "execution_count": 9,
     "metadata": {},
     "output_type": "execute_result"
    }
   ],
   "source": [
    "from datetime import datetime, timedelta\n",
    "\n",
    "dic = {}\n",
    "for _, row in df.iterrows():\n",
    "    # if row[\"Date Event Began\"] == row[\"Date of Restoration\"]:\n",
    "    #     starttime = row[\"Time Event Began\"]\n",
    "    #     endtime = row[\"Time of Restoration\"]\n",
    "    #     diff = endtime - starttime\n",
    "    #     lst.append(str(diff))\n",
    "    if row[\"Number of Customers Affected\"] == \"Unknown\":\n",
    "        continue\n",
    "    elif row[\"NERC Region\"] in dic:\n",
    "        dic[row[\"NERC Region\"]] += int(row[\"Number of Customers Affected\"])\n",
    "    else:\n",
    "        dic[row[\"NERC Region\"]] = int(row[\"Number of Customers Affected\"])\n",
    "\n",
    "\n",
    "dic = {x:y for x,y in dic.items() if y!=0}\n",
    "dic\n",
    "\n",
    "\n",
    "\n",
    "# df.plot(x='Demand Loss (MW)', y='Number of Customers Affected', kind='line')\n",
    "# plt.show()\n"
   ]
  },
  {
   "cell_type": "code",
   "execution_count": 3,
   "metadata": {},
   "outputs": [
    {
     "name": "stdout",
     "output_type": "stream",
     "text": [
      "<class 'datetime.datetime'>\n",
      "1900-01-01 13:55:26\n"
     ]
    }
   ],
   "source": [
    "from datetime import datetime\n",
    "\n",
    "datetime_str = '13:55:26'\n",
    "\n",
    "datetime_object = datetime.strptime(datetime_str, '%H:%M:%S')\n",
    "\n",
    "print(type(datetime_object))\n",
    "print(datetime_object) "
   ]
  }
 ],
 "metadata": {
  "kernelspec": {
   "display_name": ".venv",
   "language": "python",
   "name": "python3"
  },
  "language_info": {
   "codemirror_mode": {
    "name": "ipython",
    "version": 3
   },
   "file_extension": ".py",
   "mimetype": "text/x-python",
   "name": "python",
   "nbconvert_exporter": "python",
   "pygments_lexer": "ipython3",
   "version": "3.8.9"
  }
 },
 "nbformat": 4,
 "nbformat_minor": 2
}
