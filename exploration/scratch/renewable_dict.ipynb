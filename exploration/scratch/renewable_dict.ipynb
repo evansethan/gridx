{
 "cells": [
  {
   "cell_type": "code",
   "execution_count": null,
   "metadata": {},
   "outputs": [
    {
     "name": "stdout",
     "output_type": "stream",
     "text": [
      "{'AK': {'Total renewables': 14235, 'Total energy production': 1351088, 'Renewable Percent': 0.010535953246568691}, 'AL': {'Total renewables': 212636, 'Total energy production': 1039523, 'Renewable Percent': 0.2045515106447861}, 'AR': {'Total renewables': 89967, 'Total energy production': 690242, 'Renewable Percent': 0.1303412426366405}, 'AZ': {'Total renewables': 74234, 'Total energy production': 407604, 'Renewable Percent': 0.18212284472183787}, 'CA': {'Total renewables': 543231, 'Total energy production': 1590981, 'Renewable Percent': 0.34144405244311526}, 'CO': {'Total renewables': 113441, 'Total energy production': 3542814, 'Renewable Percent': 0.03202002701807095}, 'CT': {'Total renewables': 28147, 'Total energy production': 199852, 'Renewable Percent': 0.14083922102355742}, 'DC': {'Total renewables': 1701, 'Total energy production': 1701, 'Renewable Percent': 1.0}, 'DE': {'Total renewables': 2829, 'Total energy production': 2829, 'Renewable Percent': 1.0}, 'FL': {'Total renewables': 234438, 'Total energy production': 563301, 'Renewable Percent': 0.4161860177773517}, 'GA': {'Total renewables': 273701, 'Total energy production': 629055, 'Renewable Percent': 0.4350986797656803}, 'HI': {'Total renewables': 16937, 'Total energy production': 16937, 'Renewable Percent': 1.0}, 'IA': {'Total renewables': 770984, 'Total energy production': 770984, 'Renewable Percent': 1.0}, 'ID': {'Total renewables': 84989, 'Total energy production': 87924, 'Renewable Percent': 0.9666188981393021}, 'IL': {'Total renewables': 333692, 'Total energy production': 2208705, 'Renewable Percent': 0.15108038420703535}, 'IN': {'Total renewables': 251540, 'Total energy production': 797529, 'Renewable Percent': 0.3153991892457829}, 'KS': {'Total renewables': 201334, 'Total energy production': 628196, 'Renewable Percent': 0.3204955141388993}, 'KY': {'Total renewables': 68537, 'Total energy production': 865410, 'Renewable Percent': 0.0791959880287956}, 'LA': {'Total renewables': 223605, 'Total energy production': 4786753, 'Renewable Percent': 0.04671329395939168}, 'MA': {'Total renewables': 52235, 'Total energy production': 52235, 'Renewable Percent': 1.0}, 'MD': {'Total renewables': 27437, 'Total energy production': 216400, 'Renewable Percent': 0.12678835489833643}, 'ME': {'Total renewables': 96000, 'Total energy production': 96000, 'Renewable Percent': 1.0}, 'MI': {'Total renewables': 190123, 'Total energy production': 562141, 'Renewable Percent': 0.3382122990495267}, 'MN': {'Total renewables': 307778, 'Total energy production': 461045, 'Renewable Percent': 0.6675660727260897}, 'MO': {'Total renewables': 122845, 'Total energy production': 217321, 'Renewable Percent': 0.5652698082559899}, 'MS': {'Total renewables': 61796, 'Total energy production': 287910, 'Renewable Percent': 0.21463651835643083}, 'MT': {'Total renewables': 65653, 'Total energy production': 730452, 'Renewable Percent': 0.0898799647341646}, 'NC': {'Total renewables': 181170, 'Total energy production': 625908, 'Renewable Percent': 0.28945148488276234}, 'ND': {'Total renewables': 163116, 'Total energy production': 4114359, 'Renewable Percent': 0.039645543813750815}, 'NE': {'Total renewables': 327330, 'Total energy production': 394701, 'Renewable Percent': 0.8293113014661732}, 'NH': {'Total renewables': 34320, 'Total energy production': 148220, 'Renewable Percent': 0.23154769936580757}, 'NJ': {'Total renewables': 33259, 'Total energy production': 328596, 'Renewable Percent': 0.10121547432105077}, 'NM': {'Total renewables': 78407, 'Total energy production': 6690243, 'Renewable Percent': 0.01171960420570673}, 'NV': {'Total renewables': 61432, 'Total energy production': 62681, 'Renewable Percent': 0.9800737065458432}, 'NY': {'Total renewables': 220740, 'Total energy production': 511922, 'Renewable Percent': 0.4311985028969257}, 'OH': {'Total renewables': 154296, 'Total energy production': 2978590, 'Renewable Percent': 0.05180169140432218}, 'OK': {'Total renewables': 182276, 'Total energy production': 4280569, 'Renewable Percent': 0.042582189423882665}, 'OR': {'Total renewables': 219920, 'Total energy production': 219934, 'Renewable Percent': 0.9999363445397256}, 'PA': {'Total renewables': 155006, 'Total energy production': 9950508, 'Renewable Percent': 0.015577697138678749}, 'RI': {'Total renewables': 7615, 'Total energy production': 7615, 'Renewable Percent': 1.0}, 'SC': {'Total renewables': 128184, 'Total energy production': 695206, 'Renewable Percent': 0.18438275849172764}, 'SD': {'Total renewables': 234233, 'Total energy production': 239873, 'Renewable Percent': 0.9764875579994414}, 'TN': {'Total renewables': 100268, 'Total energy production': 475879, 'Renewable Percent': 0.21070061927506784}, 'TX': {'Total renewables': 654921, 'Total energy production': 25142391, 'Renewable Percent': 0.026048477251029944}, 'UT': {'Total renewables': 26924, 'Total energy production': 818532, 'Renewable Percent': 0.03289303289303289}, 'VA': {'Total renewables': 141225, 'Total energy production': 808272, 'Renewable Percent': 0.1747245976601936}, 'VT': {'Total renewables': 28150, 'Total energy production': 28150, 'Renewable Percent': 1.0}, 'WA': {'Total renewables': 419010, 'Total energy production': 521751, 'Renewable Percent': 0.8030842298337713}, 'WI': {'Total renewables': 181284, 'Total energy production': 286377, 'Renewable Percent': 0.6330256968960496}, 'WV': {'Total renewables': 23431, 'Total energy production': 5762856, 'Renewable Percent': 0.004065865952576292}, 'WY': {'Total renewables': 60836, 'Total energy production': 6013674, 'Renewable Percent': 0.01011627833500785}, 'US': {'Total renewables': 8307342, 'Total energy production': 98436099, 'Renewable Percent': 0.08439324683112442}}\n"
     ]
    }
   ],
   "source": [
    "import pandas as pd\n",
    "from pathlib import Path\n",
    "\n",
    "#Note: this notebook needs to be in the project directory and not \"scratch\" to work\n",
    "\n",
    "#renewable_path = Path(__file__).parent / \"data\" / \"Renewables\" / \"prod_btu_re_te.xlsx\"\n",
    "\n",
    "state_dict = {}\n",
    "final_dict = {} #needs to be dict of dict for each year then each state to renewables\n",
    "#limit range of 2016 to 2023, can allow subsets\n",
    "renewable_path = \"data/renewables/prod_btu_re_te.xlsx\"\n",
    "renewables_excel = pd.ExcelFile(renewable_path)\n",
    "total_renewables_sheet = pd.read_excel(renewables_excel, \"Total renewables\", header=2)\n",
    "total_energy_production_sheet = pd.read_excel(renewables_excel, \"Total primary energy\", header=2)\n",
    "\n",
    "for index, row in total_renewables_sheet.iterrows():\n",
    "    state = row[\"State\"]\n",
    "    state_dict[state] = {\"Total renewables\": row[2022]}\n",
    "\n",
    "for index, row in total_energy_production_sheet.iterrows():\n",
    "    state = row[\"State\"]\n",
    "    if state in state_dict:\n",
    "        state_dict[state][\"Total energy production\"] = row[2022]\n",
    "\n",
    "for us_state, energy_dict in state_dict.items():\n",
    "    energy_dict[\"Renewable Percent\"] = energy_dict[\"Total renewables\"]/energy_dict[\"Total energy production\"]\n",
    "\n",
    "print (state_dict)\n",
    "\n"
   ]
  }
 ],
 "metadata": {
  "kernelspec": {
   "display_name": "Python 3",
   "language": "python",
   "name": "python3"
  },
  "language_info": {
   "codemirror_mode": {
    "name": "ipython",
    "version": 3
   },
   "file_extension": ".py",
   "mimetype": "text/x-python",
   "name": "python",
   "nbconvert_exporter": "python",
   "pygments_lexer": "ipython3",
   "version": "3.8.5"
  }
 },
 "nbformat": 4,
 "nbformat_minor": 2
}
