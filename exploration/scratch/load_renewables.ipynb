{
 "cells": [
  {
   "cell_type": "code",
   "execution_count": 91,
   "metadata": {},
   "outputs": [
    {
     "data": {
      "text/plain": [
       "{2000: 5120.0,\n",
       " 2001: 3845.0,\n",
       " 2002: 3773.0,\n",
       " 2003: 3474.0,\n",
       " 2004: 3246.0,\n",
       " 2005: 3303.0,\n",
       " 2006: 3939.0,\n",
       " 2007: 1925.0,\n",
       " 2008: 1913.0,\n",
       " 2009: 2786.0,\n",
       " 2010: 5922.0,\n",
       " 2011: 9104.0,\n",
       " 2012: 8669.0,\n",
       " 2013: 9983.0,\n",
       " 2014: 13288.0,\n",
       " 2015: 16601.0,\n",
       " 2016: 15896.0,\n",
       " 2017: 22480.0,\n",
       " 2018: 23743.0,\n",
       " 2019: 29285.0,\n",
       " 2020: 36028.0,\n",
       " 2021: 36767.0,\n",
       " 2022: 46899.0}"
      ]
     },
     "execution_count": 91,
     "metadata": {},
     "output_type": "execute_result"
    }
   ],
   "source": [
    "import pandas as pd \n",
    "import csv\n",
    "  \n",
    "\n",
    "start = 2000\n",
    "end_plus_one = 2023\n",
    "# read an excel file and convert  \n",
    "# into a dataframe object \n",
    "df = pd.DataFrame(pd.read_csv(\"../../data/renewables/use_all_btu_update.csv\")) \n",
    "  \n",
    "# df.columns = df.iloc[0]\n",
    "# df = df.drop(index=0)\n",
    "\n",
    "# consumption of power sector\n",
    "lst = [\"State\", \"MSN\"]\n",
    "for i in range(start, end_plus_one):\n",
    "    lst.append(str(i))\n",
    "\n",
    "total = df[df[\"MSN\"] == \"TEEIB\"]\n",
    "solar = df[df[\"MSN\"] == \"SOEGB\"]\n",
    "wind = df[df[\"MSN\"] == \"WYEGB\"]\n",
    "geo = df[df[\"MSN\"] == \"GEEGB\"]\n",
    "hydro = df[df[\"MSN\"] == \"HYEGB\"]\n",
    "\n",
    "\n",
    "renews = pd.concat([solar, wind, geo, hydro])[lst]\n",
    "\n",
    "us_states = {\n",
    "    'AL': {}, 'AK': {}, 'AZ': {}, 'AR': {}, 'CA': {}, 'CO': {}, 'CT': {},\n",
    "    'DE': {}, 'FL': {}, 'GA': {}, 'HI': {}, 'ID': {}, 'IL': {}, 'IN': {},\n",
    "    'IA': {}, 'KS': {}, 'KY': {}, 'LA': {}, 'ME': {}, 'MD': {}, 'MA': {},\n",
    "    'MI': {}, 'MN': {}, 'MS': {}, 'MO': {}, 'MT': {}, 'NE': {}, 'NV': {},\n",
    "    'NH': {}, 'NJ': {}, 'NM': {}, 'NY': {}, 'NC': {}, 'ND': {}, 'OH': {},\n",
    "    'OK': {}, 'OR': {}, 'PA': {}, 'RI': {}, 'SC': {}, 'SD': {}, 'TN': {},\n",
    "    'TX': {}, 'UT': {}, 'VT': {}, 'VA': {}, 'WA': {}, 'WV': {}, 'WI': {},\n",
    "    'WY': {}\n",
    "}\n",
    "\n",
    "for state in us_states.keys():\n",
    "    df = renews[renews[\"State\"] == state]\n",
    "    lst = list(df.sum())[2:]\n",
    "    for i in range(len(lst)):\n",
    "        us_states[state][start+i] = float(lst[i])\n",
    "    \n",
    "\n",
    "\n",
    "us_states[\"NE\"]\n"
   ]
  }
 ],
 "metadata": {
  "kernelspec": {
   "display_name": ".venv",
   "language": "python",
   "name": "python3"
  },
  "language_info": {
   "codemirror_mode": {
    "name": "ipython",
    "version": 3
   },
   "file_extension": ".py",
   "mimetype": "text/x-python",
   "name": "python",
   "nbconvert_exporter": "python",
   "pygments_lexer": "ipython3",
   "version": "3.13.1"
  }
 },
 "nbformat": 4,
 "nbformat_minor": 2
}
