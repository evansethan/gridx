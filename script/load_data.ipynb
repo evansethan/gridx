{
 "cells": [
  {
   "cell_type": "code",
   "execution_count": 73,
   "metadata": {},
   "outputs": [],
   "source": [
    "from shapely.geometry import Point, Polygon\n",
    "from typing import NamedTuple\n",
    "import pathlib\n",
    "import shapefile\n",
    "import pandas as pd\n",
    "import csv\n",
    "import random\n",
    "import geopandas as gpd"
   ]
  },
  {
   "cell_type": "code",
   "execution_count": 74,
   "metadata": {},
   "outputs": [],
   "source": [
    "class NERC(NamedTuple):\n",
    "    id: str\n",
    "    polygon: Polygon\n",
    "\n",
    "class Facility(NamedTuple):\n",
    "    entityid: int\n",
    "    plantid: int\n",
    "    entityname: str\n",
    "    plantname: str\n",
    "    capacity: int\n",
    "    latitude: float\n",
    "    longitude: float\n",
    "    tech: str"
   ]
  },
  {
   "cell_type": "code",
   "execution_count": 100,
   "metadata": {},
   "outputs": [],
   "source": [
    "nerc_file = \"../data/nerc_regions/NERC_Regions_EIA\"\n",
    "generator_file = \"../data/Renewables/july_generator2023.xlsx\""
   ]
  },
  {
   "cell_type": "code",
   "execution_count": 101,
   "metadata": {},
   "outputs": [],
   "source": [
    "def load_shapefiles(path: pathlib.Path) -> NERC:\n",
    "    \"\"\"\n",
    "    Extract and parse polygons from NERC shapefiles.\n",
    "    \"\"\"\n",
    "    nercs = []\n",
    "    with shapefile.Reader(path) as sf:\n",
    "        for shape_rec in sf.shapeRecords():\n",
    "            nercs.append(\n",
    "                NERC(\n",
    "                    id=shape_rec.record[\"NERC\"],\n",
    "                    polygon=Polygon(shape_rec.shape.points),\n",
    "                )\n",
    "            )\n",
    "    return nercs"
   ]
  },
  {
   "cell_type": "code",
   "execution_count": 102,
   "metadata": {},
   "outputs": [],
   "source": [
    "nerc = load_shapefiles(nerc_file)"
   ]
  },
  {
   "cell_type": "code",
   "execution_count": 78,
   "metadata": {},
   "outputs": [],
   "source": [
    "def load_frs_csv(path: pathlib.Path) -> list[Facility]:\n",
    "    \"\"\"\n",
    "    Given a CSV containing facility data, return a list of Facility objects.\n",
    "    \"\"\"\n",
    "    facilities = []\n",
    "    df = pd.read_excel(generator_file, sheet_name=\"Operating\", skiprows=2)\n",
    "    df = df.reset_index() \n",
    "    for index, row in df.iterrows():\n",
    "            facilities.append(\n",
    "                Facility(\n",
    "                    entityid=row[\"Entity ID\"],\n",
    "                    entityname=row[\"Entity Name\"],\n",
    "                    plantid=row[\"Plant ID\"],\n",
    "                    plantname=row[\"Plant Name\"],\n",
    "                    capacity=row[\"Nameplate Capacity (MW)\"],\n",
    "                    latitude=row[\"Latitude\"],\n",
    "                    longitude=row[\"Longitude\"],\n",
    "                    tech=row[\"Technology\"]\n",
    "                )\n",
    "            )\n",
    "    return facilities"
   ]
  },
  {
   "cell_type": "code",
   "execution_count": 79,
   "metadata": {},
   "outputs": [],
   "source": [
    "generator = load_frs_csv(generator_file)"
   ]
  },
  {
   "cell_type": "code",
   "execution_count": 80,
   "metadata": {},
   "outputs": [],
   "source": [
    "def spatial_join(facilities: list, nerc: list) -> list[tuple[str, str]]:\n",
    "\n",
    "    facility_nerc = []\n",
    "\n",
    "    for facility in facilities: \n",
    "        facility_point = Point(facility.longitude, facility.latitude)\n",
    "        for id, poly in nerc:\n",
    "            if poly.contains(facility_point):\n",
    "                facility_nerc.append((facility.id, id))\n",
    "                break\n",
    "            else:\n",
    "                continue\n",
    "    return facility_nerc"
   ]
  },
  {
   "cell_type": "code",
   "execution_count": 103,
   "metadata": {},
   "outputs": [],
   "source": [
    "facility_by_nerc = spatial_join(generator, nerc)"
   ]
  },
  {
   "cell_type": "code",
   "execution_count": 82,
   "metadata": {},
   "outputs": [
    {
     "name": "stdout",
     "output_type": "stream",
     "text": [
      "POINT (-88.0103 31.0069)\n",
      "NERC(id='SERC', polygon=<POLYGON ((-9123196.218 2816863.693, -9123190.273 2817148.175, -9123352.49 2...>)\n",
      "Not Contained\n"
     ]
    }
   ],
   "source": [
    "# debugging\n",
    "facility = generator[10]\n",
    "facility_point = Point(facility.longitude, facility.latitude)\n",
    "print(facility_point)\n",
    "\n",
    "serc_region = nerc[3]\n",
    "print(serc_region)\n",
    "id, poly = serc_region\n",
    "\n",
    "if poly.contains(facility_point):\n",
    "    print(\"Contained\")\n",
    "else:\n",
    "    print(\"Not Contained\")"
   ]
  }
 ],
 "metadata": {
  "kernelspec": {
   "display_name": "Python 3",
   "language": "python",
   "name": "python3"
  },
  "language_info": {
   "codemirror_mode": {
    "name": "ipython",
    "version": 3
   },
   "file_extension": ".py",
   "mimetype": "text/x-python",
   "name": "python",
   "nbconvert_exporter": "python",
   "pygments_lexer": "ipython3",
   "version": "3.9.6"
  }
 },
 "nbformat": 4,
 "nbformat_minor": 2
}
