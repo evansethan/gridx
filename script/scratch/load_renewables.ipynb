{
 "cells": [
  {
   "cell_type": "code",
   "execution_count": null,
   "metadata": {},
   "outputs": [
    {
     "name": "stderr",
     "output_type": "stream",
     "text": [
      "/var/folders/9l/2bwv4jkx48jd59kf004xmw0m0000gn/T/ipykernel_88606/727515016.py:67: FutureWarning: Calling float on a single element Series is deprecated and will raise a TypeError in the future. Use float(ser.iloc[0]) instead\n",
      "  totals_by_state_and_year[state][start+i] = float(totals[totals[\"State\"] == \"NE\"][str(start+i)])\n"
     ]
    },
    {
     "data": {
      "text/plain": [
       "{2016: 341270.0,\n",
       " 2017: 315109.0,\n",
       " 2018: 337022.0,\n",
       " 2019: 338709.0,\n",
       " 2020: 311919.0,\n",
       " 2021: 321473.0,\n",
       " 2022: 326818.0}"
      ]
     },
     "execution_count": 133,
     "metadata": {},
     "output_type": "execute_result"
    }
   ],
   "source": [
    "import pandas as pd \n",
    "import csv\n",
    "  \n",
    "\n",
    "start = 2016\n",
    "end_plus_one = 2023\n",
    "# read an excel file and convert  \n",
    "# into a dataframe object \n",
    "df = pd.DataFrame(pd.read_csv(\"../../data/renewables/use_all_btu_update.csv\")) \n",
    "  \n",
    "# df.columns = df.iloc[0]\n",
    "# df = df.drop(index=0)\n",
    "\n",
    "# consumption of power sector\n",
    "lst = [\"State\", \"MSN\"]\n",
    "for i in range(start, end_plus_one):\n",
    "    lst.append(str(i))\n",
    "\n",
    "total = df[df[\"MSN\"] == \"TEEIB\"]\n",
    "solar = df[df[\"MSN\"] == \"SOEGB\"]\n",
    "wind = df[df[\"MSN\"] == \"WYEGB\"]\n",
    "geo = df[df[\"MSN\"] == \"GEEGB\"]\n",
    "hydro = df[df[\"MSN\"] == \"HYEGB\"]\n",
    "\n",
    "\n",
    "renews = pd.concat([solar, wind, geo, hydro])[lst]\n",
    "totals = total[lst]\n",
    "\n",
    "\n",
    "renewables_by_state_and_year = {\n",
    "    'AL': {}, 'AK': {}, 'AZ': {}, 'AR': {}, 'CA': {}, 'CO': {}, 'CT': {},\n",
    "    'DE': {}, 'FL': {}, 'GA': {}, 'HI': {}, 'ID': {}, 'IL': {}, 'IN': {},\n",
    "    'IA': {}, 'KS': {}, 'KY': {}, 'LA': {}, 'ME': {}, 'MD': {}, 'MA': {},\n",
    "    'MI': {}, 'MN': {}, 'MS': {}, 'MO': {}, 'MT': {}, 'NE': {}, 'NV': {},\n",
    "    'NH': {}, 'NJ': {}, 'NM': {}, 'NY': {}, 'NC': {}, 'ND': {}, 'OH': {},\n",
    "    'OK': {}, 'OR': {}, 'PA': {}, 'RI': {}, 'SC': {}, 'SD': {}, 'TN': {},\n",
    "    'TX': {}, 'UT': {}, 'VT': {}, 'VA': {}, 'WA': {}, 'WV': {}, 'WI': {},\n",
    "    'WY': {}\n",
    "}\n",
    "\n",
    "totals_by_state_and_year = {\n",
    "    'AL': {}, 'AK': {}, 'AZ': {}, 'AR': {}, 'CA': {}, 'CO': {}, 'CT': {},\n",
    "    'DE': {}, 'FL': {}, 'GA': {}, 'HI': {}, 'ID': {}, 'IL': {}, 'IN': {},\n",
    "    'IA': {}, 'KS': {}, 'KY': {}, 'LA': {}, 'ME': {}, 'MD': {}, 'MA': {},\n",
    "    'MI': {}, 'MN': {}, 'MS': {}, 'MO': {}, 'MT': {}, 'NE': {}, 'NV': {},\n",
    "    'NH': {}, 'NJ': {}, 'NM': {}, 'NY': {}, 'NC': {}, 'ND': {}, 'OH': {},\n",
    "    'OK': {}, 'OR': {}, 'PA': {}, 'RI': {}, 'SC': {}, 'SD': {}, 'TN': {},\n",
    "    'TX': {}, 'UT': {}, 'VT': {}, 'VA': {}, 'WA': {}, 'WV': {}, 'WI': {},\n",
    "    'WY': {}\n",
    "}\n",
    "\n",
    "for state in renewables_by_state_and_year .keys():\n",
    "    # get each state df\n",
    "    df = renews[renews[\"State\"] == state]\n",
    "    # sum each renewable type\n",
    "    lst = list(df.sum())[2:]\n",
    "\n",
    "    # for each year\n",
    "    for i in range(len(lst)):\n",
    "        # add year : total to dictionary corresp. to state\n",
    "        renewables_by_state_and_year[state][start+i] = float(lst[i])\n",
    "    \n",
    "\n",
    "# for state in totals_by_state_and_year.keys():\n",
    "#     df = totals[totals[\"State\"] == state]\n",
    "#     for i in range(end_plus_one - start):\n",
    "#         totals_by_state_and_year[state][start+i] = float(totals[totals[\"State\"] == \"NE\"][str(start+i)])\n",
    "\n",
    "\n",
    "renewables_by_state_and_year[\"MA\"]\n",
    "\n",
    "\n",
    "# percent_renews = dic\n",
    "# for key in dic.keys():\n",
    "#     for year, num in renewables_by_state_and_year.items():\n",
    "#         percent_renews[key][year] = (renewables_by_state_and_year[key][year]/totals_by_state_and_year[key][year]) * 100\n",
    "\n",
    "# percent_renews\n",
    "\n",
    "\n"
   ]
  }
 ],
 "metadata": {
  "kernelspec": {
   "display_name": ".venv",
   "language": "python",
   "name": "python3"
  },
  "language_info": {
   "codemirror_mode": {
    "name": "ipython",
    "version": 3
   },
   "file_extension": ".py",
   "mimetype": "text/x-python",
   "name": "python",
   "nbconvert_exporter": "python",
   "pygments_lexer": "ipython3",
   "version": "3.13.1"
  }
 },
 "nbformat": 4,
 "nbformat_minor": 2
}
